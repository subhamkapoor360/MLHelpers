{
  "nbformat": 4,
  "nbformat_minor": 0,
  "metadata": {
    "colab": {
      "name": "Mnist.ipynb",
      "version": "0.3.2",
      "provenance": [],
      "collapsed_sections": [],
      "include_colab_link": true
    },
    "kernelspec": {
      "name": "python3",
      "display_name": "Python 3"
    },
    "accelerator": "GPU"
  },
  "cells": [
    {
      "cell_type": "markdown",
      "metadata": {
        "id": "view-in-github",
        "colab_type": "text"
      },
      "source": [
        "<a href=\"https://colab.research.google.com/github/subhamkapoor360/MLHelpers/blob/master/Mnist.ipynb\" target=\"_parent\"><img src=\"https://colab.research.google.com/assets/colab-badge.svg\" alt=\"Open In Colab\"/></a>"
      ]
    },
    {
      "cell_type": "code",
      "metadata": {
        "id": "uKwHEEKuoyhH",
        "colab_type": "code",
        "colab": {
          "base_uri": "https://localhost:8080/",
          "height": 34
        },
        "outputId": "d3bdf8c3-3b06-4205-9cdb-e8b6444ac1ad"
      },
      "source": [
        "from __future__ import absolute_import, division, print_function, unicode_literals\n",
        "\n",
        "\n",
        "import tensorflow \n",
        "import numpy as np\n",
        "import warnings\n",
        "\n",
        "\n",
        "from tensorflow.keras.datasets.mnist import load_data\n",
        "from tensorflow.keras import backend as K\n",
        "from tensorflow.keras.callbacks import ModelCheckpoint, EarlyStopping, ReduceLROnPlateau\n",
        "from keras.preprocessing.image import  array_to_img\n",
        "\n",
        "warnings.filterwarnings('ignore')"
      ],
      "execution_count": 1,
      "outputs": [
        {
          "output_type": "stream",
          "text": [
            "Using TensorFlow backend.\n"
          ],
          "name": "stderr"
        }
      ]
    },
    {
      "cell_type": "code",
      "metadata": {
        "id": "UMsLyQVzo2bH",
        "colab_type": "code",
        "colab": {}
      },
      "source": [
        "from tensorflow.keras.datasets import mnist\n",
        "\n",
        "\n",
        "def load_mnist_data():\n",
        "\t'''\n",
        "\tUsage:  X_train, y_train, X_test,y_test = load_fashion_mnist_data()\n",
        "\t'''\n",
        "\tdigits = mnist.load_data()\n",
        "\t(X_train, y_train),(X_test, y_test) = digits\n",
        "\tX_train = X_train.astype('float32')\n",
        "\tX_train, X_test = X_train/255.0,X_test/255.0\n",
        "\treturn X_train, y_train, X_test,y_test"
      ],
      "execution_count": 0,
      "outputs": []
    },
    {
      "cell_type": "code",
      "metadata": {
        "id": "7c8YXr3yo8D_",
        "colab_type": "code",
        "colab": {}
      },
      "source": [
        "batch_size = 128\n",
        "num_classes = 10\n",
        "epochs = 12\n",
        "\n",
        "# input image dimensions\n",
        "img_rows, img_cols = 28, 28\n"
      ],
      "execution_count": 0,
      "outputs": []
    },
    {
      "cell_type": "code",
      "metadata": {
        "id": "3IG6bMJjo-LI",
        "colab_type": "code",
        "colab": {}
      },
      "source": [
        "X_train, y_train, X_test,y_test = load_mnist_data()\n",
        "if K.image_data_format() == 'channels_first':\n",
        "    X_train = X_train.reshape(X_train.shape[0], 1, img_rows, img_cols)\n",
        "    X_test = X_test.reshape(X_test.shape[0], 1, img_rows, img_cols)\n",
        "    input_shape = (1, img_rows, img_cols)\n",
        "else:\n",
        "    X_train = X_train.reshape(X_train.shape[0], img_rows, img_cols, 1)\n",
        "    X_test = X_test.reshape(X_test.shape[0], img_rows, img_cols, 1)\n",
        "    input_shape = (img_rows, img_cols, 1)\n"
      ],
      "execution_count": 0,
      "outputs": []
    },
    {
      "cell_type": "code",
      "metadata": {
        "id": "ZqQioWkHo_4Z",
        "colab_type": "code",
        "colab": {}
      },
      "source": [
        "y_train = tensorflow.keras.utils.to_categorical(y_train, num_classes)\n",
        "y_test = tensorflow.keras.utils.to_categorical(y_test, num_classes)"
      ],
      "execution_count": 0,
      "outputs": []
    },
    {
      "cell_type": "code",
      "metadata": {
        "id": "IGDnD--2pF6v",
        "colab_type": "code",
        "colab": {}
      },
      "source": [
        "import tensorflow\n",
        "from tensorflow.keras.layers import (Dense,Dropout,Conv2D,MaxPooling2D,Flatten)\n",
        "from tensorflow.keras.activations import (relu,softmax)\n",
        "from tensorflow.keras.models import Sequential\n",
        "from tensorflow.keras.optimizers import Adam\n",
        "class ImageClassification(tensorflow.keras.Model):\n",
        "\n",
        "  def __init__(self,input_shape,n_classes):\n",
        "    super(ImageClassification, self).__init__()\n",
        "    self.conv2d_1 = Conv2D(28, kernel_size=(5, 5),\n",
        "                 activation=relu,\n",
        "                 input_shape=input_shape)\n",
        "    self.conv2d_2 = Conv2D(28, (3, 3), activation=relu)\n",
        "    self.conv2d_3 = Conv2D(64, kernel_size=(5, 5),\n",
        "                 activation=relu)\n",
        "    self.conv2d_4 = Conv2D(64, (3, 3), activation=relu)\n",
        "    self.maxpoolings2d_1 = MaxPooling2D(pool_size=(2, 2))\n",
        "    self.maxpoolings2d_2 = MaxPooling2D(pool_size=(2, 2))\n",
        "    \n",
        "    self.dropout = Dropout(.5)\n",
        "    self.flatten = Flatten()\n",
        "    self.dense_1 = Dense(n_classes, activation='softmax',)\n",
        "    \n",
        "    \n",
        "\n",
        "  def call(self, inputs, training=False):\n",
        "    x = self.conv2d_1(inputs)\n",
        "    x = self.conv2d_2(x)\n",
        "    x = self.maxpoolings2d_1(x)\n",
        "    x = self.dropout(x)\n",
        "    x = self.conv2d_3(x)\n",
        "    x = self.conv2d_4(x)\n",
        "    x = self.maxpoolings2d_2(x)\n",
        "    x = self.dropout(x)\n",
        "    x = self.flatten(x)\n",
        "    return self.dense_1(x)"
      ],
      "execution_count": 0,
      "outputs": []
    },
    {
      "cell_type": "code",
      "metadata": {
        "id": "mtV_EoW7pIxK",
        "colab_type": "code",
        "colab": {}
      },
      "source": [
        "img_class = ImageClassification((28,28),10)"
      ],
      "execution_count": 0,
      "outputs": []
    },
    {
      "cell_type": "code",
      "metadata": {
        "id": "uXes5ye9pKpI",
        "colab_type": "code",
        "colab": {
          "base_uri": "https://localhost:8080/",
          "height": 88
        },
        "outputId": "34e670a8-2cee-4d11-bda2-e42b7473f37d"
      },
      "source": [
        "img_class.compile(optimizer=Adam(.0001),\n",
        "              loss='categorical_crossentropy',\n",
        "              metrics=['accuracy',])"
      ],
      "execution_count": 8,
      "outputs": [
        {
          "output_type": "stream",
          "text": [
            "WARNING:tensorflow:From /usr/local/lib/python3.6/dist-packages/tensorflow/python/ops/resource_variable_ops.py:435: colocate_with (from tensorflow.python.framework.ops) is deprecated and will be removed in a future version.\n",
            "Instructions for updating:\n",
            "Colocations handled automatically by placer.\n"
          ],
          "name": "stdout"
        }
      ]
    },
    {
      "cell_type": "code",
      "metadata": {
        "id": "KN2O7E6ZpNq0",
        "colab_type": "code",
        "colab": {}
      },
      "source": [
        "filepath=\"Mnist\"\n",
        "checkpoint = ModelCheckpoint(filepath, monitor='val_acc', verbose=1, save_best_only=True, mode='max',save_weights_only=True)\n",
        "earlystopper = EarlyStopping(patience=4, verbose=1)\n",
        "reduce_lr = ReduceLROnPlateau(monitor='val_acc', factor=0.1,\n",
        "                              patience=2, min_lr=0.00000001, verbose=1)\n",
        "callbacks_list = [checkpoint,earlystopper,reduce_lr]"
      ],
      "execution_count": 0,
      "outputs": []
    },
    {
      "cell_type": "code",
      "metadata": {
        "id": "urtvRR_SpSMk",
        "colab_type": "code",
        "colab": {
          "base_uri": "https://localhost:8080/",
          "height": 2774
        },
        "outputId": "fed3b898-5c40-41c9-fe57-2557e0901406"
      },
      "source": [
        "history = img_class.fit(X_train,y_train,batch_size = 32,epochs=50,validation_data=(X_test, y_test),callbacks=callbacks_list)"
      ],
      "execution_count": 10,
      "outputs": [
        {
          "output_type": "stream",
          "text": [
            "WARNING:tensorflow:From /usr/local/lib/python3.6/dist-packages/tensorflow/python/keras/layers/core.py:143: calling dropout (from tensorflow.python.ops.nn_ops) with keep_prob is deprecated and will be removed in a future version.\n",
            "Instructions for updating:\n",
            "Please use `rate` instead of `keep_prob`. Rate should be set to `rate = 1 - keep_prob`.\n",
            "Train on 60000 samples, validate on 10000 samples\n",
            "WARNING:tensorflow:From /usr/local/lib/python3.6/dist-packages/tensorflow/python/ops/math_ops.py:3066: to_int32 (from tensorflow.python.ops.math_ops) is deprecated and will be removed in a future version.\n",
            "Instructions for updating:\n",
            "Use tf.cast instead.\n",
            "Epoch 1/50\n",
            "59904/60000 [============================>.] - ETA: 0s - loss: 0.7981 - acc: 0.7359\n",
            "Epoch 00001: val_acc improved from -inf to 0.94910, saving model to Mnist\n",
            "WARNING:tensorflow:This model was compiled with a Keras optimizer (<tensorflow.python.keras.optimizers.Adam object at 0x7f4b52f59128>) but is being saved in TensorFlow format with `save_weights`. The model's weights will be saved, but unlike with TensorFlow optimizers in the TensorFlow format the optimizer's state will not be saved.\n",
            "\n",
            "Consider using a TensorFlow optimizer from `tf.train`.\n",
            "WARNING:tensorflow:From /usr/local/lib/python3.6/dist-packages/tensorflow/python/keras/engine/network.py:1436: update_checkpoint_state (from tensorflow.python.training.checkpoint_management) is deprecated and will be removed in a future version.\n",
            "Instructions for updating:\n",
            "Use tf.train.CheckpointManager to manage checkpoints rather than manually editing the Checkpoint proto.\n",
            "60000/60000 [==============================] - 12s 203us/sample - loss: 0.7972 - acc: 0.7363 - val_loss: 0.1802 - val_acc: 0.9491\n",
            "Epoch 2/50\n",
            "59840/60000 [============================>.] - ETA: 0s - loss: 0.2799 - acc: 0.9124\n",
            "Epoch 00002: val_acc improved from 0.94910 to 0.96700, saving model to Mnist\n",
            "WARNING:tensorflow:This model was compiled with a Keras optimizer (<tensorflow.python.keras.optimizers.Adam object at 0x7f4b52f59128>) but is being saved in TensorFlow format with `save_weights`. The model's weights will be saved, but unlike with TensorFlow optimizers in the TensorFlow format the optimizer's state will not be saved.\n",
            "\n",
            "Consider using a TensorFlow optimizer from `tf.train`.\n",
            "60000/60000 [==============================] - 9s 155us/sample - loss: 0.2800 - acc: 0.9124 - val_loss: 0.1052 - val_acc: 0.9670\n",
            "Epoch 3/50\n",
            "59936/60000 [============================>.] - ETA: 0s - loss: 0.1928 - acc: 0.9409\n",
            "Epoch 00003: val_acc improved from 0.96700 to 0.97600, saving model to Mnist\n",
            "WARNING:tensorflow:This model was compiled with a Keras optimizer (<tensorflow.python.keras.optimizers.Adam object at 0x7f4b52f59128>) but is being saved in TensorFlow format with `save_weights`. The model's weights will be saved, but unlike with TensorFlow optimizers in the TensorFlow format the optimizer's state will not be saved.\n",
            "\n",
            "Consider using a TensorFlow optimizer from `tf.train`.\n",
            "60000/60000 [==============================] - 9s 157us/sample - loss: 0.1928 - acc: 0.9409 - val_loss: 0.0764 - val_acc: 0.9760\n",
            "Epoch 4/50\n",
            "59808/60000 [============================>.] - ETA: 0s - loss: 0.1493 - acc: 0.9538\n",
            "Epoch 00004: val_acc improved from 0.97600 to 0.98290, saving model to Mnist\n",
            "WARNING:tensorflow:This model was compiled with a Keras optimizer (<tensorflow.python.keras.optimizers.Adam object at 0x7f4b52f59128>) but is being saved in TensorFlow format with `save_weights`. The model's weights will be saved, but unlike with TensorFlow optimizers in the TensorFlow format the optimizer's state will not be saved.\n",
            "\n",
            "Consider using a TensorFlow optimizer from `tf.train`.\n",
            "60000/60000 [==============================] - 9s 155us/sample - loss: 0.1492 - acc: 0.9539 - val_loss: 0.0579 - val_acc: 0.9829\n",
            "Epoch 5/50\n",
            "59680/60000 [============================>.] - ETA: 0s - loss: 0.1249 - acc: 0.9620\n",
            "Epoch 00005: val_acc improved from 0.98290 to 0.98480, saving model to Mnist\n",
            "WARNING:tensorflow:This model was compiled with a Keras optimizer (<tensorflow.python.keras.optimizers.Adam object at 0x7f4b52f59128>) but is being saved in TensorFlow format with `save_weights`. The model's weights will be saved, but unlike with TensorFlow optimizers in the TensorFlow format the optimizer's state will not be saved.\n",
            "\n",
            "Consider using a TensorFlow optimizer from `tf.train`.\n",
            "60000/60000 [==============================] - 9s 157us/sample - loss: 0.1247 - acc: 0.9621 - val_loss: 0.0492 - val_acc: 0.9848\n",
            "Epoch 6/50\n",
            "59872/60000 [============================>.] - ETA: 0s - loss: 0.1080 - acc: 0.9668\n",
            "Epoch 00006: val_acc improved from 0.98480 to 0.98720, saving model to Mnist\n",
            "WARNING:tensorflow:This model was compiled with a Keras optimizer (<tensorflow.python.keras.optimizers.Adam object at 0x7f4b52f59128>) but is being saved in TensorFlow format with `save_weights`. The model's weights will be saved, but unlike with TensorFlow optimizers in the TensorFlow format the optimizer's state will not be saved.\n",
            "\n",
            "Consider using a TensorFlow optimizer from `tf.train`.\n",
            "60000/60000 [==============================] - 10s 167us/sample - loss: 0.1080 - acc: 0.9668 - val_loss: 0.0414 - val_acc: 0.9872\n",
            "Epoch 7/50\n",
            "59808/60000 [============================>.] - ETA: 0s - loss: 0.0953 - acc: 0.9712\n",
            "Epoch 00007: val_acc improved from 0.98720 to 0.98790, saving model to Mnist\n",
            "WARNING:tensorflow:This model was compiled with a Keras optimizer (<tensorflow.python.keras.optimizers.Adam object at 0x7f4b52f59128>) but is being saved in TensorFlow format with `save_weights`. The model's weights will be saved, but unlike with TensorFlow optimizers in the TensorFlow format the optimizer's state will not be saved.\n",
            "\n",
            "Consider using a TensorFlow optimizer from `tf.train`.\n",
            "60000/60000 [==============================] - 10s 165us/sample - loss: 0.0952 - acc: 0.9712 - val_loss: 0.0387 - val_acc: 0.9879\n",
            "Epoch 8/50\n",
            "59744/60000 [============================>.] - ETA: 0s - loss: 0.0864 - acc: 0.9734\n",
            "Epoch 00008: val_acc improved from 0.98790 to 0.98940, saving model to Mnist\n",
            "WARNING:tensorflow:This model was compiled with a Keras optimizer (<tensorflow.python.keras.optimizers.Adam object at 0x7f4b52f59128>) but is being saved in TensorFlow format with `save_weights`. The model's weights will be saved, but unlike with TensorFlow optimizers in the TensorFlow format the optimizer's state will not be saved.\n",
            "\n",
            "Consider using a TensorFlow optimizer from `tf.train`.\n",
            "60000/60000 [==============================] - 9s 157us/sample - loss: 0.0862 - acc: 0.9734 - val_loss: 0.0340 - val_acc: 0.9894\n",
            "Epoch 9/50\n",
            "59808/60000 [============================>.] - ETA: 0s - loss: 0.0794 - acc: 0.9761\n",
            "Epoch 00009: val_acc improved from 0.98940 to 0.99050, saving model to Mnist\n",
            "WARNING:tensorflow:This model was compiled with a Keras optimizer (<tensorflow.python.keras.optimizers.Adam object at 0x7f4b52f59128>) but is being saved in TensorFlow format with `save_weights`. The model's weights will be saved, but unlike with TensorFlow optimizers in the TensorFlow format the optimizer's state will not be saved.\n",
            "\n",
            "Consider using a TensorFlow optimizer from `tf.train`.\n",
            "60000/60000 [==============================] - 9s 155us/sample - loss: 0.0793 - acc: 0.9761 - val_loss: 0.0320 - val_acc: 0.9905\n",
            "Epoch 10/50\n",
            "59872/60000 [============================>.] - ETA: 0s - loss: 0.0739 - acc: 0.9773\n",
            "Epoch 00010: val_acc improved from 0.99050 to 0.99150, saving model to Mnist\n",
            "WARNING:tensorflow:This model was compiled with a Keras optimizer (<tensorflow.python.keras.optimizers.Adam object at 0x7f4b52f59128>) but is being saved in TensorFlow format with `save_weights`. The model's weights will be saved, but unlike with TensorFlow optimizers in the TensorFlow format the optimizer's state will not be saved.\n",
            "\n",
            "Consider using a TensorFlow optimizer from `tf.train`.\n",
            "60000/60000 [==============================] - 9s 156us/sample - loss: 0.0739 - acc: 0.9773 - val_loss: 0.0293 - val_acc: 0.9915\n",
            "Epoch 11/50\n",
            "59712/60000 [============================>.] - ETA: 0s - loss: 0.0689 - acc: 0.9791\n",
            "Epoch 00011: val_acc improved from 0.99150 to 0.99160, saving model to Mnist\n",
            "WARNING:tensorflow:This model was compiled with a Keras optimizer (<tensorflow.python.keras.optimizers.Adam object at 0x7f4b52f59128>) but is being saved in TensorFlow format with `save_weights`. The model's weights will be saved, but unlike with TensorFlow optimizers in the TensorFlow format the optimizer's state will not be saved.\n",
            "\n",
            "Consider using a TensorFlow optimizer from `tf.train`.\n",
            "60000/60000 [==============================] - 9s 157us/sample - loss: 0.0688 - acc: 0.9792 - val_loss: 0.0305 - val_acc: 0.9916\n",
            "Epoch 12/50\n",
            "59744/60000 [============================>.] - ETA: 0s - loss: 0.0620 - acc: 0.9810\n",
            "Epoch 00012: val_acc improved from 0.99160 to 0.99220, saving model to Mnist\n",
            "WARNING:tensorflow:This model was compiled with a Keras optimizer (<tensorflow.python.keras.optimizers.Adam object at 0x7f4b52f59128>) but is being saved in TensorFlow format with `save_weights`. The model's weights will be saved, but unlike with TensorFlow optimizers in the TensorFlow format the optimizer's state will not be saved.\n",
            "\n",
            "Consider using a TensorFlow optimizer from `tf.train`.\n",
            "60000/60000 [==============================] - 9s 156us/sample - loss: 0.0620 - acc: 0.9810 - val_loss: 0.0258 - val_acc: 0.9922\n",
            "Epoch 13/50\n",
            "59936/60000 [============================>.] - ETA: 0s - loss: 0.0612 - acc: 0.9812\n",
            "Epoch 00013: val_acc improved from 0.99220 to 0.99320, saving model to Mnist\n",
            "WARNING:tensorflow:This model was compiled with a Keras optimizer (<tensorflow.python.keras.optimizers.Adam object at 0x7f4b52f59128>) but is being saved in TensorFlow format with `save_weights`. The model's weights will be saved, but unlike with TensorFlow optimizers in the TensorFlow format the optimizer's state will not be saved.\n",
            "\n",
            "Consider using a TensorFlow optimizer from `tf.train`.\n",
            "60000/60000 [==============================] - 9s 156us/sample - loss: 0.0611 - acc: 0.9812 - val_loss: 0.0255 - val_acc: 0.9932\n",
            "Epoch 14/50\n",
            "59808/60000 [============================>.] - ETA: 0s - loss: 0.0565 - acc: 0.9830\n",
            "Epoch 00014: val_acc did not improve from 0.99320\n",
            "60000/60000 [==============================] - 11s 177us/sample - loss: 0.0564 - acc: 0.9830 - val_loss: 0.0233 - val_acc: 0.9931\n",
            "Epoch 15/50\n",
            "59744/60000 [============================>.] - ETA: 0s - loss: 0.0530 - acc: 0.9829\n",
            "Epoch 00015: val_acc did not improve from 0.99320\n",
            "\n",
            "Epoch 00015: ReduceLROnPlateau reducing learning rate to 9.999999747378752e-06.\n",
            "60000/60000 [==============================] - 10s 173us/sample - loss: 0.0531 - acc: 0.9830 - val_loss: 0.0232 - val_acc: 0.9931\n",
            "Epoch 16/50\n",
            "59648/60000 [============================>.] - ETA: 0s - loss: 0.0489 - acc: 0.9854\n",
            "Epoch 00016: val_acc improved from 0.99320 to 0.99390, saving model to Mnist\n",
            "WARNING:tensorflow:This model was compiled with a Keras optimizer (<tensorflow.python.keras.optimizers.Adam object at 0x7f4b52f59128>) but is being saved in TensorFlow format with `save_weights`. The model's weights will be saved, but unlike with TensorFlow optimizers in the TensorFlow format the optimizer's state will not be saved.\n",
            "\n",
            "Consider using a TensorFlow optimizer from `tf.train`.\n",
            "60000/60000 [==============================] - 9s 155us/sample - loss: 0.0491 - acc: 0.9854 - val_loss: 0.0218 - val_acc: 0.9939\n",
            "Epoch 17/50\n",
            "59776/60000 [============================>.] - ETA: 0s - loss: 0.0465 - acc: 0.9856\n",
            "Epoch 00017: val_acc did not improve from 0.99390\n",
            "60000/60000 [==============================] - 9s 156us/sample - loss: 0.0466 - acc: 0.9856 - val_loss: 0.0209 - val_acc: 0.9936\n",
            "Epoch 18/50\n",
            "59712/60000 [============================>.] - ETA: 0s - loss: 0.0446 - acc: 0.9864\n",
            "Epoch 00018: val_acc did not improve from 0.99390\n",
            "\n",
            "Epoch 00018: ReduceLROnPlateau reducing learning rate to 9.999999747378752e-07.\n",
            "60000/60000 [==============================] - 9s 156us/sample - loss: 0.0446 - acc: 0.9865 - val_loss: 0.0209 - val_acc: 0.9938\n",
            "Epoch 19/50\n",
            "59744/60000 [============================>.] - ETA: 0s - loss: 0.0463 - acc: 0.9858\n",
            "Epoch 00019: val_acc did not improve from 0.99390\n",
            "60000/60000 [==============================] - 9s 156us/sample - loss: 0.0464 - acc: 0.9857 - val_loss: 0.0208 - val_acc: 0.9939\n",
            "Epoch 20/50\n",
            "59840/60000 [============================>.] - ETA: 0s - loss: 0.0435 - acc: 0.9866\n",
            "Epoch 00020: val_acc did not improve from 0.99390\n",
            "\n",
            "Epoch 00020: ReduceLROnPlateau reducing learning rate to 9.999999974752428e-08.\n",
            "60000/60000 [==============================] - 9s 155us/sample - loss: 0.0434 - acc: 0.9867 - val_loss: 0.0209 - val_acc: 0.9939\n",
            "Epoch 21/50\n",
            "59968/60000 [============================>.] - ETA: 0s - loss: 0.0460 - acc: 0.9860\n",
            "Epoch 00021: val_acc did not improve from 0.99390\n",
            "60000/60000 [==============================] - 9s 156us/sample - loss: 0.0461 - acc: 0.9860 - val_loss: 0.0208 - val_acc: 0.9939\n",
            "Epoch 22/50\n",
            "59808/60000 [============================>.] - ETA: 0s - loss: 0.0449 - acc: 0.9864\n",
            "Epoch 00022: val_acc did not improve from 0.99390\n",
            "\n",
            "Epoch 00022: ReduceLROnPlateau reducing learning rate to 1.0000000116860975e-08.\n",
            "60000/60000 [==============================] - 9s 157us/sample - loss: 0.0449 - acc: 0.9864 - val_loss: 0.0209 - val_acc: 0.9939\n",
            "Epoch 23/50\n",
            "59840/60000 [============================>.] - ETA: 0s - loss: 0.0448 - acc: 0.9863\n",
            "Epoch 00023: val_acc did not improve from 0.99390\n",
            "60000/60000 [==============================] - 10s 172us/sample - loss: 0.0448 - acc: 0.9863 - val_loss: 0.0209 - val_acc: 0.9939\n",
            "Epoch 24/50\n",
            "59968/60000 [============================>.] - ETA: 0s - loss: 0.0434 - acc: 0.9865\n",
            "Epoch 00024: val_acc did not improve from 0.99390\n",
            "60000/60000 [==============================] - 10s 160us/sample - loss: 0.0434 - acc: 0.9865 - val_loss: 0.0209 - val_acc: 0.9939\n",
            "Epoch 25/50\n",
            "59968/60000 [============================>.] - ETA: 0s - loss: 0.0440 - acc: 0.9864\n",
            "Epoch 00025: val_acc did not improve from 0.99390\n",
            "60000/60000 [==============================] - 9s 155us/sample - loss: 0.0440 - acc: 0.9864 - val_loss: 0.0209 - val_acc: 0.9939\n",
            "Epoch 00025: early stopping\n"
          ],
          "name": "stdout"
        }
      ]
    },
    {
      "cell_type": "code",
      "metadata": {
        "id": "upgbG-e0pU_o",
        "colab_type": "code",
        "colab": {}
      },
      "source": [
        "image_predictions = img_class.predict(X_test)\n",
        "\n"
      ],
      "execution_count": 0,
      "outputs": []
    },
    {
      "cell_type": "code",
      "metadata": {
        "id": "v5WT2IPgqD4D",
        "colab_type": "code",
        "colab": {
          "base_uri": "https://localhost:8080/",
          "height": 51
        },
        "outputId": "419ebfae-9848-4d60-a010-6bfeb93af3df"
      },
      "source": [
        "img_class.evaluate(X_test,y_test)"
      ],
      "execution_count": 12,
      "outputs": [
        {
          "output_type": "stream",
          "text": [
            "10000/10000 [==============================] - 1s 54us/sample - loss: 0.0209 - acc: 0.9939\n"
          ],
          "name": "stdout"
        },
        {
          "output_type": "execute_result",
          "data": {
            "text/plain": [
              "[0.02085083363817248, 0.9939]"
            ]
          },
          "metadata": {
            "tags": []
          },
          "execution_count": 12
        }
      ]
    },
    {
      "cell_type": "code",
      "metadata": {
        "id": "VtaT2yzdpi2_",
        "colab_type": "code",
        "colab": {}
      },
      "source": [
        "test_index = 101"
      ],
      "execution_count": 0,
      "outputs": []
    },
    {
      "cell_type": "code",
      "metadata": {
        "id": "qIinLo20pkwa",
        "colab_type": "code",
        "colab": {
          "base_uri": "https://localhost:8080/",
          "height": 45
        },
        "outputId": "e263f65a-cb41-4492-9ef7-9d24845deddf"
      },
      "source": [
        "test_image = X_test[test_index]\n",
        "array_to_img(test_image)"
      ],
      "execution_count": 14,
      "outputs": [
        {
          "output_type": "execute_result",
          "data": {
            "image/png": "[encoded data removed]",
            "text/plain": [
              "<PIL.Image.Image image mode=L size=28x28 at 0x7F4B444D3A58>"
            ]
          },
          "metadata": {
            "tags": []
          },
          "execution_count": 14
        }
      ]
    },
    {
      "cell_type": "code",
      "metadata": {
        "id": "P9WL9NZupm--",
        "colab_type": "code",
        "colab": {}
      },
      "source": [
        "prediction = image_predictions[test_index].argmax()"
      ],
      "execution_count": 0,
      "outputs": []
    },
    {
      "cell_type": "code",
      "metadata": {
        "id": "7dY1wUA-psga",
        "colab_type": "code",
        "colab": {
          "base_uri": "https://localhost:8080/",
          "height": 34
        },
        "outputId": "4b8867c2-4fa8-4dfe-8819-860123e59512"
      },
      "source": [
        "prediction"
      ],
      "execution_count": 16,
      "outputs": [
        {
          "output_type": "execute_result",
          "data": {
            "text/plain": [
              "0"
            ]
          },
          "metadata": {
            "tags": []
          },
          "execution_count": 16
        }
      ]
    },
    {
      "cell_type": "code",
      "metadata": {
        "id": "Fvd7xlw-pv5_",
        "colab_type": "code",
        "colab": {}
      },
      "source": [
        ""
      ],
      "execution_count": 0,
      "outputs": []
    }
  ]
}
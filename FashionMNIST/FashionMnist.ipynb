{
  "nbformat": 4,
  "nbformat_minor": 0,
  "metadata": {
    "colab": {
      "name": "FashionMnist.ipynb",
      "version": "0.3.2",
      "provenance": [],
      "include_colab_link": true,
    },
    "kernelspec": {
      "name": "python3",
      "display_name": "Python 3"
    },
    "accelerator": "GPU"
  },
  "cells": [
    {
      "cell_type": "markdown",
      "metadata": {
        "id": "view-in-github",
        "colab_type": "text"
      },
      "source": [
        "<a href=\"https://colab.research.google.com/github/subhamkapoor360/MLHelpers/blob/master/FashionMNIST/FashionMnist.ipynb\" target=\"_parent\"><img src=\"https://colab.research.google.com/assets/colab-badge.svg\" alt=\"Open In Colab\"/></a>"
      ]
    },
    {
      "cell_type": "code",
      "metadata": {
        "id": "urWoN9AVHXB5",
        "colab_type": "code",
        "colab": {
          "base_uri": "https://localhost:8080/",
          "height": 34
        },
        "outputId": "2054f7e7-6c5c-47da-a822-6576f2568b5d"
      },
      "source": [
        "from __future__ import absolute_import, division, print_function, unicode_literals\n",
        "\n",
        "\n",
        "import tensorflow \n",
        "import numpy as np\n",
        "import warnings\n",
        "\n",
        "\n",
        "from tensorflow.keras.datasets.mnist import load_data\n",
        "from tensorflow.keras import backend as K\n",
        "from tensorflow.keras.callbacks import ModelCheckpoint, EarlyStopping, ReduceLROnPlateau\n",
        "from keras.preprocessing.image import  array_to_img\n",
        "\n",
        "warnings.filterwarnings('ignore')"
      ],
      "execution_count": 1,
      "outputs": [
        {
          "output_type": "stream",
          "text": [
            "Using TensorFlow backend.\n"
          ],
          "name": "stderr"
        }
      ]
    },
    {
      "cell_type": "code",
      "metadata": {
        "id": "5czRnLT0JGO-",
        "colab_type": "code",
        "colab": {}
      },
      "source": [
        "FASHION_MAPPER = {\n",
        "\t\t\t\t0: \"T-shirt/top\",\n",
        "\t\t\t\t1: \"Trouser\",\n",
        "\t\t\t\t2: \"Pullover\",\n",
        "\t\t\t\t3: \"Dress\",\n",
        "\t\t\t\t4: \"Coat\",\n",
        "\t\t\t\t5: \"Sandal\",\n",
        "\t\t\t\t6: \"Shirt\",\n",
        "\t\t\t\t7: \"Sneaker\",\n",
        "\t\t\t\t8: \"Bag\",\n",
        "\t\t\t\t9: \"Ankle boot\",\n",
        "\t\t\t}"
      ],
      "execution_count": 0,
      "outputs": []
    },
    {
      "cell_type": "code",
      "metadata": {
        "id": "i5ejLt-GHbRh",
        "colab_type": "code",
        "colab": {}
      },
      "source": [
        "from tensorflow.keras.datasets import fashion_mnist\n",
        "\n",
        "\n",
        "def load_fashion_mnist_data():\n",
        "\t'''\n",
        "\tUsage:  X_train, y_train, X_test,y_test = load_fashion_mnist_data()\n",
        "\t'''\n",
        "\tdigits = fashion_mnist.load_data()\n",
        "\t(X_train, y_train),(X_test, y_test) = digits\n",
        "\tX_train = X_train.astype('float32')\n",
        "\tX_train, X_test = X_train/255.0,X_test/255.0\n",
        "\treturn X_train, y_train, X_test,y_test"
      ],
      "execution_count": 0,
      "outputs": []
    },
    {
      "cell_type": "code",
      "metadata": {
        "id": "ku8GOzX8IML0",
        "colab_type": "code",
        "colab": {}
      },
      "source": [
        "batch_size = 128\n",
        "num_classes = 10\n",
        "epochs = 12\n",
        "\n",
        "# input image dimensions\n",
        "img_rows, img_cols = 28, 28\n"
      ],
      "execution_count": 0,
      "outputs": []
    },
    {
      "cell_type": "code",
      "metadata": {
        "id": "gHySXH3THhze",
        "colab_type": "code",
        "colab": {}
      },
      "source": [
        "X_train, y_train, X_test,y_test = load_fashion_mnist_data()\n",
        "if K.image_data_format() == 'channels_first':\n",
        "    X_train = X_train.reshape(X_train.shape[0], 1, img_rows, img_cols)\n",
        "    X_test = X_test.reshape(X_test.shape[0], 1, img_rows, img_cols)\n",
        "    input_shape = (1, img_rows, img_cols)\n",
        "else:\n",
        "    X_train = X_train.reshape(X_train.shape[0], img_rows, img_cols, 1)\n",
        "    X_test = X_test.reshape(X_test.shape[0], img_rows, img_cols, 1)\n",
        "    input_shape = (img_rows, img_cols, 1)\n"
      ],
      "execution_count": 0,
      "outputs": []
    },
    {
      "cell_type": "code",
      "metadata": {
        "id": "S1bKhSnQILKE",
        "colab_type": "code",
        "colab": {}
      },
      "source": [
        "y_train = tensorflow.keras.utils.to_categorical(y_train, num_classes)\n",
        "y_test = tensorflow.keras.utils.to_categorical(y_test, num_classes)"
      ],
      "execution_count": 0,
      "outputs": []
    },
    {
      "cell_type": "code",
      "metadata": {
        "id": "mQ_5A36-IB1A",
        "colab_type": "code",
        "colab": {}
      },
      "source": [
        "import tensorflow\n",
        "from tensorflow.keras.layers import (Dense,Dropout,Conv2D,MaxPooling2D,Flatten)\n",
        "from tensorflow.keras.activations import (relu,softmax)\n",
        "from tensorflow.keras.models import Sequential\n",
        "from tensorflow.keras.optimizers import Adam\n",
        "class ImageClassification(tensorflow.keras.Model):\n",
        "\n",
        "  def __init__(self,input_shape,n_classes):\n",
        "    super(ImageClassification, self).__init__()\n",
        "    self.conv2d_1 = Conv2D(28, kernel_size=(5, 5),\n",
        "                 activation=relu,\n",
        "                 input_shape=input_shape)\n",
        "    self.conv2d_2 = Conv2D(28, (3, 3), activation=relu)\n",
        "    self.conv2d_3 = Conv2D(64, kernel_size=(5, 5),\n",
        "                 activation=relu)\n",
        "    self.conv2d_4 = Conv2D(64, (3, 3), activation=relu)\n",
        "    self.maxpoolings2d_1 = MaxPooling2D(pool_size=(2, 2))\n",
        "    self.maxpoolings2d_2 = MaxPooling2D(pool_size=(2, 2))\n",
        "    \n",
        "    self.dropout = Dropout(.5)\n",
        "    self.flatten = Flatten()\n",
        "    self.dense_1 = Dense(n_classes, activation='softmax',)\n",
        "    \n",
        "    \n",
        "\n",
        "  def call(self, inputs, training=False):\n",
        "    x = self.conv2d_1(inputs)\n",
        "    x = self.conv2d_2(x)\n",
        "    x = self.maxpoolings2d_1(x)\n",
        "    x = self.dropout(x)\n",
        "    x = self.conv2d_3(x)\n",
        "    x = self.conv2d_4(x)\n",
        "    x = self.maxpoolings2d_2(x)\n",
        "    x = self.dropout(x)\n",
        "    x = self.flatten(x)\n",
        "    return self.dense_1(x)"
      ],
      "execution_count": 0,
      "outputs": []
    },
    {
      "cell_type": "code",
      "metadata": {
        "id": "P4T8_z7_ITx9",
        "colab_type": "code",
        "colab": {}
      },
      "source": [
        "img_class = ImageClassification((28,28),10)"
      ],
      "execution_count": 0,
      "outputs": []
    },
    {
      "cell_type": "code",
      "metadata": {
        "id": "xjyOMl7KIVcZ",
        "colab_type": "code",
        "colab": {
          "base_uri": "https://localhost:8080/",
          "height": 88
        },
        "outputId": "d61440fd-b384-4fc3-e75f-222f5090ec02"
      },
      "source": [
        "img_class.compile(optimizer=Adam(.0005),\n",
        "              loss='categorical_crossentropy',\n",
        "              metrics=['accuracy',])"
      ],
      "execution_count": 9,
      "outputs": [
        {
          "output_type": "stream",
          "text": [
            "WARNING:tensorflow:From /usr/local/lib/python3.6/dist-packages/tensorflow/python/ops/resource_variable_ops.py:435: colocate_with (from tensorflow.python.framework.ops) is deprecated and will be removed in a future version.\n",
            "Instructions for updating:\n",
            "Colocations handled automatically by placer.\n"
          ],
          "name": "stdout"
        }
      ]
    },
    {
      "cell_type": "code",
      "metadata": {
        "id": "gWcTOY-BIW0A",
        "colab_type": "code",
        "colab": {}
      },
      "source": [
        "filepath=\"FashionMnist\"\n",
        "checkpoint = ModelCheckpoint(filepath, monitor='val_acc', verbose=1, save_best_only=True, mode='max',save_weights_only=True)\n",
        "earlystopper = EarlyStopping(patience=4, verbose=1)\n",
        "reduce_lr = ReduceLROnPlateau(monitor='val_acc', factor=0.1,\n",
        "                              patience=2, min_lr=0.00000001, verbose=1)\n",
        "callbacks_list = [checkpoint,earlystopper,reduce_lr]"
      ],
      "execution_count": 0,
      "outputs": []
    },
    {
      "cell_type": "code",
      "metadata": {
        "id": "vBJKbF6jIYzX",
        "colab_type": "code",
        "outputId": "a9a84cdf-bc61-4285-e7be-e128c834bce3",
        "colab": {
          "base_uri": "https://localhost:8080/",
          "height": 3743
        }
      },
      "source": [
        "history = img_class.fit(X_train,y_train,batch_size = 32,epochs=50,validation_data=(X_test, y_test),callbacks=callbacks_list)"
      ],
      "execution_count": 11,
      "outputs": [
        {
          "output_type": "stream",
          "text": [
            "WARNING:tensorflow:From /usr/local/lib/python3.6/dist-packages/tensorflow/python/keras/layers/core.py:143: calling dropout (from tensorflow.python.ops.nn_ops) with keep_prob is deprecated and will be removed in a future version.\n",
            "Instructions for updating:\n",
            "Please use `rate` instead of `keep_prob`. Rate should be set to `rate = 1 - keep_prob`.\n",
            "Train on 60000 samples, validate on 10000 samples\n",
            "WARNING:tensorflow:From /usr/local/lib/python3.6/dist-packages/tensorflow/python/ops/math_ops.py:3066: to_int32 (from tensorflow.python.ops.math_ops) is deprecated and will be removed in a future version.\n",
            "Instructions for updating:\n",
            "Use tf.cast instead.\n",
            "Epoch 1/50\n",
            "59840/60000 [============================>.] - ETA: 0s - loss: 0.7324 - acc: 0.7296\n",
            "Epoch 00001: val_acc improved from -inf to 0.82580, saving model to FashionMnist\n",
            "WARNING:tensorflow:This model was compiled with a Keras optimizer (<tensorflow.python.keras.optimizers.Adam object at 0x7f0f5bd93c88>) but is being saved in TensorFlow format with `save_weights`. The model's weights will be saved, but unlike with TensorFlow optimizers in the TensorFlow format the optimizer's state will not be saved.\n",
            "\n",
            "Consider using a TensorFlow optimizer from `tf.train`.\n",
            "WARNING:tensorflow:From /usr/local/lib/python3.6/dist-packages/tensorflow/python/keras/engine/network.py:1436: update_checkpoint_state (from tensorflow.python.training.checkpoint_management) is deprecated and will be removed in a future version.\n",
            "Instructions for updating:\n",
            "Use tf.train.CheckpointManager to manage checkpoints rather than manually editing the Checkpoint proto.\n",
            "60000/60000 [==============================] - 12s 193us/sample - loss: 0.7318 - acc: 0.7298 - val_loss: 0.4882 - val_acc: 0.8258\n",
            "Epoch 2/50\n",
            "59968/60000 [============================>.] - ETA: 0s - loss: 0.4881 - acc: 0.8222\n",
            "Epoch 00002: val_acc improved from 0.82580 to 0.85880, saving model to FashionMnist\n",
            "WARNING:tensorflow:This model was compiled with a Keras optimizer (<tensorflow.python.keras.optimizers.Adam object at 0x7f0f5bd93c88>) but is being saved in TensorFlow format with `save_weights`. The model's weights will be saved, but unlike with TensorFlow optimizers in the TensorFlow format the optimizer's state will not be saved.\n",
            "\n",
            "Consider using a TensorFlow optimizer from `tf.train`.\n",
            "60000/60000 [==============================] - 9s 158us/sample - loss: 0.4882 - acc: 0.8222 - val_loss: 0.3963 - val_acc: 0.8588\n",
            "Epoch 3/50\n",
            "59744/60000 [============================>.] - ETA: 0s - loss: 0.4203 - acc: 0.8471\n",
            "Epoch 00003: val_acc improved from 0.85880 to 0.87420, saving model to FashionMnist\n",
            "WARNING:tensorflow:This model was compiled with a Keras optimizer (<tensorflow.python.keras.optimizers.Adam object at 0x7f0f5bd93c88>) but is being saved in TensorFlow format with `save_weights`. The model's weights will be saved, but unlike with TensorFlow optimizers in the TensorFlow format the optimizer's state will not be saved.\n",
            "\n",
            "Consider using a TensorFlow optimizer from `tf.train`.\n",
            "60000/60000 [==============================] - 9s 157us/sample - loss: 0.4203 - acc: 0.8471 - val_loss: 0.3544 - val_acc: 0.8742\n",
            "Epoch 4/50\n",
            "59744/60000 [============================>.] - ETA: 0s - loss: 0.3860 - acc: 0.8606\n",
            "Epoch 00004: val_acc improved from 0.87420 to 0.88300, saving model to FashionMnist\n",
            "WARNING:tensorflow:This model was compiled with a Keras optimizer (<tensorflow.python.keras.optimizers.Adam object at 0x7f0f5bd93c88>) but is being saved in TensorFlow format with `save_weights`. The model's weights will be saved, but unlike with TensorFlow optimizers in the TensorFlow format the optimizer's state will not be saved.\n",
            "\n",
            "Consider using a TensorFlow optimizer from `tf.train`.\n",
            "60000/60000 [==============================] - 10s 161us/sample - loss: 0.3865 - acc: 0.8605 - val_loss: 0.3257 - val_acc: 0.8830\n",
            "Epoch 5/50\n",
            "59744/60000 [============================>.] - ETA: 0s - loss: 0.3592 - acc: 0.8688\n",
            "Epoch 00005: val_acc improved from 0.88300 to 0.88920, saving model to FashionMnist\n",
            "WARNING:tensorflow:This model was compiled with a Keras optimizer (<tensorflow.python.keras.optimizers.Adam object at 0x7f0f5bd93c88>) but is being saved in TensorFlow format with `save_weights`. The model's weights will be saved, but unlike with TensorFlow optimizers in the TensorFlow format the optimizer's state will not be saved.\n",
            "\n",
            "Consider using a TensorFlow optimizer from `tf.train`.\n",
            "60000/60000 [==============================] - 10s 168us/sample - loss: 0.3596 - acc: 0.8687 - val_loss: 0.3138 - val_acc: 0.8892\n",
            "Epoch 6/50\n",
            "59744/60000 [============================>.] - ETA: 0s - loss: 0.3453 - acc: 0.8760\n",
            "Epoch 00006: val_acc did not improve from 0.88920\n",
            "60000/60000 [==============================] - 11s 180us/sample - loss: 0.3453 - acc: 0.8758 - val_loss: 0.3068 - val_acc: 0.8891\n",
            "Epoch 7/50\n",
            "59808/60000 [============================>.] - ETA: 0s - loss: 0.3313 - acc: 0.8787\n",
            "Epoch 00007: val_acc improved from 0.88920 to 0.89500, saving model to FashionMnist\n",
            "WARNING:tensorflow:This model was compiled with a Keras optimizer (<tensorflow.python.keras.optimizers.Adam object at 0x7f0f5bd93c88>) but is being saved in TensorFlow format with `save_weights`. The model's weights will be saved, but unlike with TensorFlow optimizers in the TensorFlow format the optimizer's state will not be saved.\n",
            "\n",
            "Consider using a TensorFlow optimizer from `tf.train`.\n",
            "60000/60000 [==============================] - 9s 157us/sample - loss: 0.3314 - acc: 0.8787 - val_loss: 0.2966 - val_acc: 0.8950\n",
            "Epoch 8/50\n",
            "59648/60000 [============================>.] - ETA: 0s - loss: 0.3195 - acc: 0.8854\n",
            "Epoch 00008: val_acc improved from 0.89500 to 0.89870, saving model to FashionMnist\n",
            "WARNING:tensorflow:This model was compiled with a Keras optimizer (<tensorflow.python.keras.optimizers.Adam object at 0x7f0f5bd93c88>) but is being saved in TensorFlow format with `save_weights`. The model's weights will be saved, but unlike with TensorFlow optimizers in the TensorFlow format the optimizer's state will not be saved.\n",
            "\n",
            "Consider using a TensorFlow optimizer from `tf.train`.\n",
            "60000/60000 [==============================] - 9s 157us/sample - loss: 0.3196 - acc: 0.8853 - val_loss: 0.2873 - val_acc: 0.8987\n",
            "Epoch 9/50\n",
            "59968/60000 [============================>.] - ETA: 0s - loss: 0.3086 - acc: 0.8873\n",
            "Epoch 00009: val_acc did not improve from 0.89870\n",
            "60000/60000 [==============================] - 9s 158us/sample - loss: 0.3086 - acc: 0.8873 - val_loss: 0.2961 - val_acc: 0.8938\n",
            "Epoch 10/50\n",
            "59936/60000 [============================>.] - ETA: 0s - loss: 0.3019 - acc: 0.8904\n",
            "Epoch 00010: val_acc improved from 0.89870 to 0.90180, saving model to FashionMnist\n",
            "WARNING:tensorflow:This model was compiled with a Keras optimizer (<tensorflow.python.keras.optimizers.Adam object at 0x7f0f5bd93c88>) but is being saved in TensorFlow format with `save_weights`. The model's weights will be saved, but unlike with TensorFlow optimizers in the TensorFlow format the optimizer's state will not be saved.\n",
            "\n",
            "Consider using a TensorFlow optimizer from `tf.train`.\n",
            "60000/60000 [==============================] - 10s 159us/sample - loss: 0.3020 - acc: 0.8904 - val_loss: 0.2766 - val_acc: 0.9018\n",
            "Epoch 11/50\n",
            "59904/60000 [============================>.] - ETA: 0s - loss: 0.2955 - acc: 0.8916\n",
            "Epoch 00011: val_acc improved from 0.90180 to 0.90340, saving model to FashionMnist\n",
            "WARNING:tensorflow:This model was compiled with a Keras optimizer (<tensorflow.python.keras.optimizers.Adam object at 0x7f0f5bd93c88>) but is being saved in TensorFlow format with `save_weights`. The model's weights will be saved, but unlike with TensorFlow optimizers in the TensorFlow format the optimizer's state will not be saved.\n",
            "\n",
            "Consider using a TensorFlow optimizer from `tf.train`.\n",
            "60000/60000 [==============================] - 9s 157us/sample - loss: 0.2954 - acc: 0.8916 - val_loss: 0.2651 - val_acc: 0.9034\n",
            "Epoch 12/50\n",
            "59744/60000 [============================>.] - ETA: 0s - loss: 0.2900 - acc: 0.8932\n",
            "Epoch 00012: val_acc improved from 0.90340 to 0.90410, saving model to FashionMnist\n",
            "WARNING:tensorflow:This model was compiled with a Keras optimizer (<tensorflow.python.keras.optimizers.Adam object at 0x7f0f5bd93c88>) but is being saved in TensorFlow format with `save_weights`. The model's weights will be saved, but unlike with TensorFlow optimizers in the TensorFlow format the optimizer's state will not be saved.\n",
            "\n",
            "Consider using a TensorFlow optimizer from `tf.train`.\n",
            "60000/60000 [==============================] - 9s 155us/sample - loss: 0.2900 - acc: 0.8932 - val_loss: 0.2638 - val_acc: 0.9041\n",
            "Epoch 13/50\n",
            "59680/60000 [============================>.] - ETA: 0s - loss: 0.2850 - acc: 0.8945\n",
            "Epoch 00013: val_acc did not improve from 0.90410\n",
            "60000/60000 [==============================] - 9s 158us/sample - loss: 0.2849 - acc: 0.8945 - val_loss: 0.2750 - val_acc: 0.9032\n",
            "Epoch 14/50\n",
            "59936/60000 [============================>.] - ETA: 0s - loss: 0.2808 - acc: 0.8973\n",
            "Epoch 00014: val_acc improved from 0.90410 to 0.90730, saving model to FashionMnist\n",
            "WARNING:tensorflow:This model was compiled with a Keras optimizer (<tensorflow.python.keras.optimizers.Adam object at 0x7f0f5bd93c88>) but is being saved in TensorFlow format with `save_weights`. The model's weights will be saved, but unlike with TensorFlow optimizers in the TensorFlow format the optimizer's state will not be saved.\n",
            "\n",
            "Consider using a TensorFlow optimizer from `tf.train`.\n",
            "60000/60000 [==============================] - 10s 171us/sample - loss: 0.2809 - acc: 0.8973 - val_loss: 0.2588 - val_acc: 0.9073\n",
            "Epoch 15/50\n",
            "59712/60000 [============================>.] - ETA: 0s - loss: 0.2764 - acc: 0.8990\n",
            "Epoch 00015: val_acc did not improve from 0.90730\n",
            "60000/60000 [==============================] - 10s 163us/sample - loss: 0.2767 - acc: 0.8989 - val_loss: 0.2694 - val_acc: 0.9027\n",
            "Epoch 16/50\n",
            "59680/60000 [============================>.] - ETA: 0s - loss: 0.2722 - acc: 0.9010\n",
            "Epoch 00016: val_acc improved from 0.90730 to 0.90850, saving model to FashionMnist\n",
            "WARNING:tensorflow:This model was compiled with a Keras optimizer (<tensorflow.python.keras.optimizers.Adam object at 0x7f0f5bd93c88>) but is being saved in TensorFlow format with `save_weights`. The model's weights will be saved, but unlike with TensorFlow optimizers in the TensorFlow format the optimizer's state will not be saved.\n",
            "\n",
            "Consider using a TensorFlow optimizer from `tf.train`.\n",
            "60000/60000 [==============================] - 10s 174us/sample - loss: 0.2724 - acc: 0.9010 - val_loss: 0.2581 - val_acc: 0.9085\n",
            "Epoch 17/50\n",
            "59840/60000 [============================>.] - ETA: 0s - loss: 0.2679 - acc: 0.9012\n",
            "Epoch 00017: val_acc did not improve from 0.90850\n",
            "60000/60000 [==============================] - 10s 164us/sample - loss: 0.2678 - acc: 0.9012 - val_loss: 0.2537 - val_acc: 0.9070\n",
            "Epoch 18/50\n",
            "59840/60000 [============================>.] - ETA: 0s - loss: 0.2649 - acc: 0.9034\n",
            "Epoch 00018: val_acc improved from 0.90850 to 0.90940, saving model to FashionMnist\n",
            "WARNING:tensorflow:This model was compiled with a Keras optimizer (<tensorflow.python.keras.optimizers.Adam object at 0x7f0f5bd93c88>) but is being saved in TensorFlow format with `save_weights`. The model's weights will be saved, but unlike with TensorFlow optimizers in the TensorFlow format the optimizer's state will not be saved.\n",
            "\n",
            "Consider using a TensorFlow optimizer from `tf.train`.\n",
            "60000/60000 [==============================] - 9s 156us/sample - loss: 0.2649 - acc: 0.9035 - val_loss: 0.2553 - val_acc: 0.9094\n",
            "Epoch 19/50\n",
            "59808/60000 [============================>.] - ETA: 0s - loss: 0.2630 - acc: 0.9031\n",
            "Epoch 00019: val_acc did not improve from 0.90940\n",
            "60000/60000 [==============================] - 9s 155us/sample - loss: 0.2632 - acc: 0.9030 - val_loss: 0.2513 - val_acc: 0.9089\n",
            "Epoch 20/50\n",
            "59904/60000 [============================>.] - ETA: 0s - loss: 0.2595 - acc: 0.9041\n",
            "Epoch 00020: val_acc did not improve from 0.90940\n",
            "\n",
            "Epoch 00020: ReduceLROnPlateau reducing learning rate to 5.0000002374872565e-05.\n",
            "60000/60000 [==============================] - 9s 155us/sample - loss: 0.2594 - acc: 0.9041 - val_loss: 0.2552 - val_acc: 0.9075\n",
            "Epoch 21/50\n",
            "59936/60000 [============================>.] - ETA: 0s - loss: 0.2378 - acc: 0.9136\n",
            "Epoch 00021: val_acc improved from 0.90940 to 0.91460, saving model to FashionMnist\n",
            "WARNING:tensorflow:This model was compiled with a Keras optimizer (<tensorflow.python.keras.optimizers.Adam object at 0x7f0f5bd93c88>) but is being saved in TensorFlow format with `save_weights`. The model's weights will be saved, but unlike with TensorFlow optimizers in the TensorFlow format the optimizer's state will not be saved.\n",
            "\n",
            "Consider using a TensorFlow optimizer from `tf.train`.\n",
            "60000/60000 [==============================] - 9s 154us/sample - loss: 0.2379 - acc: 0.9135 - val_loss: 0.2379 - val_acc: 0.9146\n",
            "Epoch 22/50\n",
            "59840/60000 [============================>.] - ETA: 0s - loss: 0.2318 - acc: 0.9159\n",
            "Epoch 00022: val_acc did not improve from 0.91460\n",
            "60000/60000 [==============================] - 10s 162us/sample - loss: 0.2318 - acc: 0.9159 - val_loss: 0.2365 - val_acc: 0.9143\n",
            "Epoch 23/50\n",
            "59776/60000 [============================>.] - ETA: 0s - loss: 0.2287 - acc: 0.9157\n",
            "Epoch 00023: val_acc improved from 0.91460 to 0.91540, saving model to FashionMnist\n",
            "WARNING:tensorflow:This model was compiled with a Keras optimizer (<tensorflow.python.keras.optimizers.Adam object at 0x7f0f5bd93c88>) but is being saved in TensorFlow format with `save_weights`. The model's weights will be saved, but unlike with TensorFlow optimizers in the TensorFlow format the optimizer's state will not be saved.\n",
            "\n",
            "Consider using a TensorFlow optimizer from `tf.train`.\n",
            "60000/60000 [==============================] - 10s 170us/sample - loss: 0.2285 - acc: 0.9158 - val_loss: 0.2359 - val_acc: 0.9154\n",
            "Epoch 24/50\n",
            "59968/60000 [============================>.] - ETA: 0s - loss: 0.2272 - acc: 0.9157\n",
            "Epoch 00024: val_acc improved from 0.91540 to 0.91610, saving model to FashionMnist\n",
            "WARNING:tensorflow:This model was compiled with a Keras optimizer (<tensorflow.python.keras.optimizers.Adam object at 0x7f0f5bd93c88>) but is being saved in TensorFlow format with `save_weights`. The model's weights will be saved, but unlike with TensorFlow optimizers in the TensorFlow format the optimizer's state will not be saved.\n",
            "\n",
            "Consider using a TensorFlow optimizer from `tf.train`.\n",
            "60000/60000 [==============================] - 9s 155us/sample - loss: 0.2272 - acc: 0.9157 - val_loss: 0.2344 - val_acc: 0.9161\n",
            "Epoch 25/50\n",
            "59712/60000 [============================>.] - ETA: 0s - loss: 0.2252 - acc: 0.9164\n",
            "Epoch 00025: val_acc did not improve from 0.91610\n",
            "60000/60000 [==============================] - 9s 153us/sample - loss: 0.2249 - acc: 0.9165 - val_loss: 0.2337 - val_acc: 0.9138\n",
            "Epoch 26/50\n",
            "59808/60000 [============================>.] - ETA: 0s - loss: 0.2233 - acc: 0.9185\n",
            "Epoch 00026: val_acc did not improve from 0.91610\n",
            "\n",
            "Epoch 00026: ReduceLROnPlateau reducing learning rate to 5.000000237487257e-06.\n",
            "60000/60000 [==============================] - 9s 154us/sample - loss: 0.2232 - acc: 0.9185 - val_loss: 0.2342 - val_acc: 0.9158\n",
            "Epoch 27/50\n",
            "59648/60000 [============================>.] - ETA: 0s - loss: 0.2235 - acc: 0.9176\n",
            "Epoch 00027: val_acc improved from 0.91610 to 0.91650, saving model to FashionMnist\n",
            "WARNING:tensorflow:This model was compiled with a Keras optimizer (<tensorflow.python.keras.optimizers.Adam object at 0x7f0f5bd93c88>) but is being saved in TensorFlow format with `save_weights`. The model's weights will be saved, but unlike with TensorFlow optimizers in the TensorFlow format the optimizer's state will not be saved.\n",
            "\n",
            "Consider using a TensorFlow optimizer from `tf.train`.\n",
            "60000/60000 [==============================] - 10s 159us/sample - loss: 0.2234 - acc: 0.9176 - val_loss: 0.2328 - val_acc: 0.9165\n",
            "Epoch 28/50\n",
            "59936/60000 [============================>.] - ETA: 0s - loss: 0.2214 - acc: 0.9188\n",
            "Epoch 00028: val_acc did not improve from 0.91650\n",
            "60000/60000 [==============================] - 9s 153us/sample - loss: 0.2213 - acc: 0.9188 - val_loss: 0.2325 - val_acc: 0.9159\n",
            "Epoch 29/50\n",
            "59840/60000 [============================>.] - ETA: 0s - loss: 0.2232 - acc: 0.9173\n",
            "Epoch 00029: val_acc improved from 0.91650 to 0.91720, saving model to FashionMnist\n",
            "WARNING:tensorflow:This model was compiled with a Keras optimizer (<tensorflow.python.keras.optimizers.Adam object at 0x7f0f5bd93c88>) but is being saved in TensorFlow format with `save_weights`. The model's weights will be saved, but unlike with TensorFlow optimizers in the TensorFlow format the optimizer's state will not be saved.\n",
            "\n",
            "Consider using a TensorFlow optimizer from `tf.train`.\n",
            "60000/60000 [==============================] - 9s 154us/sample - loss: 0.2232 - acc: 0.9172 - val_loss: 0.2325 - val_acc: 0.9172\n",
            "Epoch 30/50\n",
            "59872/60000 [============================>.] - ETA: 0s - loss: 0.2215 - acc: 0.9173\n",
            "Epoch 00030: val_acc improved from 0.91720 to 0.91730, saving model to FashionMnist\n",
            "WARNING:tensorflow:This model was compiled with a Keras optimizer (<tensorflow.python.keras.optimizers.Adam object at 0x7f0f5bd93c88>) but is being saved in TensorFlow format with `save_weights`. The model's weights will be saved, but unlike with TensorFlow optimizers in the TensorFlow format the optimizer's state will not be saved.\n",
            "\n",
            "Consider using a TensorFlow optimizer from `tf.train`.\n",
            "60000/60000 [==============================] - 9s 154us/sample - loss: 0.2215 - acc: 0.9173 - val_loss: 0.2323 - val_acc: 0.9173\n",
            "Epoch 31/50\n",
            "59936/60000 [============================>.] - ETA: 0s - loss: 0.2230 - acc: 0.9180\n",
            "Epoch 00031: val_acc did not improve from 0.91730\n",
            "\n",
            "Epoch 00031: ReduceLROnPlateau reducing learning rate to 5.000000328436726e-07.\n",
            "60000/60000 [==============================] - 10s 174us/sample - loss: 0.2230 - acc: 0.9180 - val_loss: 0.2321 - val_acc: 0.9169\n",
            "Epoch 32/50\n",
            "59808/60000 [============================>.] - ETA: 0s - loss: 0.2194 - acc: 0.9189\n",
            "Epoch 00032: val_acc did not improve from 0.91730\n",
            "60000/60000 [==============================] - 10s 159us/sample - loss: 0.2195 - acc: 0.9188 - val_loss: 0.2321 - val_acc: 0.9167\n",
            "Epoch 33/50\n",
            "59744/60000 [============================>.] - ETA: 0s - loss: 0.2186 - acc: 0.9194\n",
            "Epoch 00033: val_acc did not improve from 0.91730\n",
            "\n",
            "Epoch 00033: ReduceLROnPlateau reducing learning rate to 5.000000555810402e-08.\n",
            "60000/60000 [==============================] - 9s 155us/sample - loss: 0.2186 - acc: 0.9194 - val_loss: 0.2321 - val_acc: 0.9168\n",
            "Epoch 34/50\n",
            "59712/60000 [============================>.] - ETA: 0s - loss: 0.2192 - acc: 0.9197\n",
            "Epoch 00034: val_acc did not improve from 0.91730\n",
            "60000/60000 [==============================] - 9s 157us/sample - loss: 0.2190 - acc: 0.9198 - val_loss: 0.2321 - val_acc: 0.9168\n",
            "Epoch 35/50\n",
            "59744/60000 [============================>.] - ETA: 0s - loss: 0.2191 - acc: 0.9191\n",
            "Epoch 00035: val_acc did not improve from 0.91730\n",
            "\n",
            "Epoch 00035: ReduceLROnPlateau reducing learning rate to 1e-08.\n",
            "60000/60000 [==============================] - 9s 157us/sample - loss: 0.2192 - acc: 0.9191 - val_loss: 0.2321 - val_acc: 0.9168\n",
            "Epoch 00035: early stopping\n"
          ],
          "name": "stdout"
        }
      ]
    },
    {
      "cell_type": "code",
      "metadata": {
        "id": "g6-RNP46IhtD",
        "colab_type": "code",
        "colab": {}
      },
      "source": [
        "image_predictions = img_class.predict(X_test)\n",
        "\n"
      ],
      "execution_count": 0,
      "outputs": []
    },
    {
      "cell_type": "code",
      "metadata": {
        "id": "6K52eRoSNcNc",
        "colab_type": "code",
        "colab": {
          "base_uri": "https://localhost:8080/",
          "height": 51
        },
        "outputId": "91f7033d-dcab-4d65-b3e4-0e41bd077af1"
      },
      "source": [
        "img_class.evaluate(X_test,y_test)"
      ],
      "execution_count": 13,
      "outputs": [
        {
          "output_type": "stream",
          "text": [
            "10000/10000 [==============================] - 1s 53us/sample - loss: 0.2321 - acc: 0.9168\n"
          ],
          "name": "stdout"
        },
        {
          "output_type": "execute_result",
          "data": {
            "text/plain": [
              "[0.23212861969470977, 0.9168]"
            ]
          },
          "metadata": {
            "tags": []
          },
          "execution_count": 13
        }
      ]
    },
    {
      "cell_type": "code",
      "metadata": {
        "id": "xhJfZp9QSYmB",
        "colab_type": "code",
        "colab": {}
      },
      "source": [
        "test_index = 101"
      ],
      "execution_count": 0,
      "outputs": []
    },
    {
      "cell_type": "code",
      "metadata": {
        "id": "yqkLyQO0Sr5Z",
        "colab_type": "code",
        "colab": {
          "base_uri": "https://localhost:8080/",
          "height": 45
        },
        "outputId": "f57fc55c-d3e5-4a20-de07-7ca7396591e1"
      },
      "source": [
        "test_image = X_test[test_index]\n",
        "array_to_img(test_image)"
      ],
      "execution_count": 15,
      "outputs": [
        {
          "output_type": "execute_result",
          "data": {
            "image/png": "iVBORw0KGgoAAAANSUhEUgAAABwAAAAcCAAAAABXZoBIAAACcklEQVR4nFXQS0wTYRAA4NkXfbLt\nFvoAgZLddqFYIE3DgUKJ0sSYiPHiwbNXEy9GT3r0bKIxRs968aSJITaiwVeBmtpQRCst0BakRdg+\noNulXXbXg2yrc5nk/zLzzwwCamAS3EdR09U6qijwf2AAMPUiK8TuAQCK/n08SSCB9dZtM5ER0fmL\nIMsIAAAgJ+i9rrftoKeN/HOrVhN7BIiiIiq77xb02M+ZT9Ixue3UW9ZvAqKctCXgWia8mRY+UNri\nEb3Ky5IDEADAAQDq0JXoozvBODfB6PM9cnXg0mNZRYA3QXmD2jPsEklrwiMRqXaAJuLDvxsVYYn3\n5/MLI6vOKtb5zyp2Hzs6CNM0Vw4BMEW8d8DZQpdQtuHxuI9qhC+TtXPesqJptaWWR9qOLJqUp679\n3p0v6KQ9rFUZgM10bLJv7LPWN9Vg3job/Z4WbrDsPAbFZJ3nFtKjRYLZDbTQCx0v+w9md1jXM4Nh\n375YORJbaKaNOAkzX/l48D2e0ZV1zvEmttlFjB//lb+RlSzTvY6xKmWSmtgeTRNCcqsWPW+L8cWo\nbx8OY5S6imUgEYL2YUK/P6ipoMJywfVD1qiVeKGXAEoyrS29YraLdG4Nr9MeFavg4OllcY4gA6/R\nfIdGcHCJQxUVVnzistfEWVvbSr30UR76RgZtKg4RXYc8S7oDpd1gZnJEKy6aa5bmtJFSw7SSSnb1\nrMNYgTvj/oIgFRXJMN7tzVoZzh7ixQNdOp7SZ5t/Dt2JnMp2a6mzESHkoHMZL4HJvIqpB/74otuE\nx3py5YjBjz3kOOmCeoQKY3+6d2WCFFnlnbQgzR5bDPgSAPwBhL/8wqWtZQUAAAAASUVORK5CYII=\n",
            "text/plain": [
              "<PIL.Image.Image image mode=L size=28x28 at 0x7F0F503709E8>"
            ]
          },
          "metadata": {
            "tags": []
          },
          "execution_count": 15
        }
      ]
    },
    {
      "cell_type": "code",
      "metadata": {
        "id": "_ae22QuhUNEf",
        "colab_type": "code",
        "colab": {}
      },
      "source": [
        "prediction = FASHION_MAPPER[image_predictions[test_index].argmax()]"
      ],
      "execution_count": 0,
      "outputs": []
    },
    {
      "cell_type": "code",
      "metadata": {
        "id": "Z4M4_vqpUR0l",
        "colab_type": "code",
        "colab": {
          "base_uri": "https://localhost:8080/",
          "height": 34
        },
        "outputId": "c37f8dd7-3616-437b-e250-902f19e7849f"
      },
      "source": [
        "prediction"
      ],
      "execution_count": 17,
      "outputs": [
        {
          "output_type": "execute_result",
          "data": {
            "text/plain": [
              "'Shirt'"
            ]
          },
          "metadata": {
            "tags": []
          },
          "execution_count": 17
        }
      ]
    },
    {
      "cell_type": "code",
      "metadata": {
        "id": "kcnhuGRVUVl7",
        "colab_type": "code",
        "colab": {}
      },
      "source": [
        ""
      ],
      "execution_count": 0,
      "outputs": []
    },
    {
      "cell_type": "code",
      "metadata": {
        "id": "xNqXJ7SMUZO0",
        "colab_type": "code",
        "colab": {}
      },
      "source": [
        ""
      ],
      "execution_count": 0,
      "outputs": []
    },
    {
      "cell_type": "code",
      "metadata": {
        "id": "7XIAgVubrIAo",
        "colab_type": "code",
        "colab": {}
      },
      "source": [
        ""
      ],
      "execution_count": 0,
      "outputs": []
    }
  ]
}
